{
 "cells": [
  {
   "cell_type": "markdown",
   "metadata": {},
   "source": [
    "programing flow\n",
    "- conditional flow\n",
    "  - if\n",
    "  - if else\n",
    "  - if elif else \n",
    "  - match case \n",
    "- iterative flow \n",
    " - for loop \n",
    " - while loop \n",
    " "
   ]
  },
  {
   "cell_type": "code",
   "execution_count": 1,
   "metadata": {},
   "outputs": [
    {
     "name": "stdout",
     "output_type": "stream",
     "text": [
      "hello everyone\n"
     ]
    }
   ],
   "source": [
    "if 'hello':\n",
    "    print('hello everyone')"
   ]
  },
  {
   "cell_type": "code",
   "execution_count": 2,
   "metadata": {},
   "outputs": [
    {
     "name": "stdout",
     "output_type": "stream",
     "text": [
      "hello everyone\n"
     ]
    }
   ],
   "source": [
    "x= 'hello'\n",
    "if len(x) >= 5:\n",
    "    print('hello everyone')"
   ]
  },
  {
   "cell_type": "code",
   "execution_count": 3,
   "metadata": {},
   "outputs": [],
   "source": [
    "a= int(input('enter a number'))\n",
    "if a * 2> 100:\n",
    "    print('a * 2 is greater than 100')\n",
    "if a + 50 > 100:\n",
    "    print('a + 50 is greater than 100')"
   ]
  },
  {
   "cell_type": "code",
   "execution_count": 4,
   "metadata": {},
   "outputs": [
    {
     "name": "stdout",
     "output_type": "stream",
     "text": [
      "x is even\n"
     ]
    }
   ],
   "source": [
    "x= int(input('enter a number'))\n",
    "if x % 2 == 0:\n",
    "    print('x is even')\n",
    "else:\n",
    "    print('x is odd')\n"
   ]
  },
  {
   "cell_type": "markdown",
   "metadata": {},
   "source": [
    "wap to find out the total salary of the employee based on the following data \n",
    "total salary: user inputted \n",
    "hra= 5%\n",
    "da= 3.3 %\n",
    "ta = 2.61% \n",
    "\n",
    "'total = salary + da + ta + hra'\n",
    "\n",
    "*rule* \n",
    "'if hra is less than 1000 then don't add hra to total'\n"
   ]
  },
  {
   "cell_type": "code",
   "execution_count": null,
   "metadata": {},
   "outputs": [],
   "source": [
    "def calculate_salary(basic_salary)\n",
    "    HRA= 5%\n",
    "    TA= 2.6% \n",
    "return basic_pay+(basic_pay * HRA) + (basic_pay * TA)\n",
    "basic_pay=float(input('enter your basic pay:'))\n",
    "print('your salary is:', calculate_salary(basic pay))\n"
   ]
  },
  {
   "cell_type": "code",
   "execution_count": 26,
   "metadata": {},
   "outputs": [
    {
     "name": "stdout",
     "output_type": "stream",
     "text": [
      "movie: king kong\n",
      "⭐⭐⭐⭐⭐(excellent)\n"
     ]
    }
   ],
   "source": [
    "name = input(\"what movie did you watch\")\n",
    "num_str = input('enter movie rating')\n",
    "if num_str.isnumeric():\n",
    "    num = int(num_str)\n",
    "    print(f\"movie: {name}\")\n",
    "    if num==1:\n",
    "        print('star(terrible)')\n",
    "    elif num== 2:\n",
    "        print('⭐⭐(bad)')\n",
    "    elif num == 3:\n",
    "        print('⭐⭐⭐(avarage)')\n",
    "    elif num == 4:\n",
    "        print('⭐⭐⭐⭐(good)')\n",
    "    elif num == 5:\n",
    "        print('⭐⭐⭐⭐⭐(excellent)')\n",
    "    else:\n",
    "        print('⚠️ invalid rating')\n",
    "else:\n",
    "    print('you are stupid, just watch the movie')"
   ]
  },
  {
   "cell_type": "code",
   "execution_count": 11,
   "metadata": {},
   "outputs": [
    {
     "name": "stdout",
     "output_type": "stream",
     "text": [
      "data science/data analytics\n"
     ]
    }
   ],
   "source": [
    "# match case - use this to match multiple values\n",
    "day = input('enter a day of the week:')\n",
    "match day.lower():\n",
    "    case 'monday'|'tuesday'|'wednesday'|'friday':\n",
    "        print('data science/data analytics')\n",
    "    case 'thursday':\n",
    "        print('clas off')\n",
    "    case 'saturday'|'sunday':\n",
    "        print('weekend(no class)')\n",
    "    case _: # default case \n",
    "        print('invalid day')\n",
    "\n"
   ]
  },
  {
   "cell_type": "markdown",
   "metadata": {},
   "source": [
    "# single line condition"
   ]
  },
  {
   "cell_type": "code",
   "execution_count": 12,
   "metadata": {},
   "outputs": [
    {
     "name": "stdout",
     "output_type": "stream",
     "text": [
      "below 100\n"
     ]
    }
   ],
   "source": [
    "x= int(input('enter a number:'))\n",
    "print(\"above 100\") if x> 100 else print(\"below 100\")"
   ]
  },
  {
   "cell_type": "markdown",
   "metadata": {},
   "source": [
    "# loops"
   ]
  },
  {
   "cell_type": "markdown",
   "metadata": {},
   "source": [
    "#### for loop\n",
    "- step based\n",
    "for var in iterable:\n",
    "statement\n",
    "\n",
    "#### while loop \n",
    "- condition based "
   ]
  },
  {
   "cell_type": "code",
   "execution_count": 13,
   "metadata": {},
   "outputs": [
    {
     "name": "stdout",
     "output_type": "stream",
     "text": [
      "h\n",
      "e\n",
      "l\n",
      "l\n",
      "o\n",
      "o\n",
      "o\n",
      "o\n"
     ]
    }
   ],
   "source": [
    "for v in 'helloooo':\n",
    "    print(v)"
   ]
  },
  {
   "cell_type": "code",
   "execution_count": 14,
   "metadata": {},
   "outputs": [
    {
     "name": "stdout",
     "output_type": "stream",
     "text": [
      "red\n",
      "green\n",
      "blue\n"
     ]
    }
   ],
   "source": [
    "colors = ['red', 'green', 'blue']\n",
    "for i in colors:\n",
    "    print(i)"
   ]
  },
  {
   "cell_type": "code",
   "execution_count": 15,
   "metadata": {},
   "outputs": [
    {
     "name": "stdout",
     "output_type": "stream",
     "text": [
      "0 red\n",
      "1 green\n",
      "2 blue\n"
     ]
    }
   ],
   "source": [
    "# index and value \n",
    "for i, v in enumerate(colors):\n",
    "    print(i, v)"
   ]
  },
  {
   "cell_type": "code",
   "execution_count": 17,
   "metadata": {},
   "outputs": [
    {
     "name": "stdout",
     "output_type": "stream",
     "text": [
      "12  => 120\n",
      "56  => 560\n",
      "7   => 70\n",
      "2   => 20\n",
      "6   => 60\n",
      "10  => 100\n",
      "20  => 200\n"
     ]
    }
   ],
   "source": [
    "numlist = [12,56,7,2,6,10,20]\n",
    "for num in numlist:\n",
    "    print(f'{num:<3} => {num * 10}')   # left alignment"
   ]
  },
  {
   "cell_type": "code",
   "execution_count": null,
   "metadata": {},
   "outputs": [],
   "source": [
    "num = 13\n",
    "# to take input from the user \n",
    "# num = int(input(\"display multiplacation table of 13\"))\n",
    "\n",
    "# to iterate 10 times from"
   ]
  },
  {
   "cell_type": "code",
   "execution_count": 18,
   "metadata": {},
   "outputs": [
    {
     "name": "stdout",
     "output_type": "stream",
     "text": [
      "13 * 1 = 13\n",
      "13 * 2 = 26\n",
      "13 * 3 = 39\n",
      "13 * 4 = 52\n",
      "13 * 5 = 65\n",
      "13 * 6 = 78\n",
      "13 * 7 = 91\n",
      "13 * 8 = 104\n",
      "13 * 9 = 117\n",
      "13 * 10 = 130\n"
     ]
    }
   ],
   "source": [
    "seq =[1,2,3,4,5,6,7,8,9,10]\n",
    "num = 13\n",
    "for i in seq:\n",
    "    print(f'{num} * {i} = {num * i}')"
   ]
  },
  {
   "cell_type": "code",
   "execution_count": 19,
   "metadata": {},
   "outputs": [
    {
     "name": "stdout",
     "output_type": "stream",
     "text": [
      "13 * 0 = 0\n",
      "13 * 1 = 13\n",
      "13 * 2 = 26\n",
      "13 * 3 = 39\n",
      "13 * 4 = 52\n",
      "13 * 5 = 65\n",
      "13 * 6 = 78\n",
      "13 * 7 = 91\n",
      "13 * 8 = 104\n",
      "13 * 9 = 117\n",
      "13 * 10 = 130\n",
      "13 * 11 = 143\n",
      "13 * 12 = 156\n"
     ]
    }
   ],
   "source": [
    "num = 13\n",
    "for i in range(13):\n",
    "    print(f'{num} * {i} = {num * i}')"
   ]
  },
  {
   "cell_type": "code",
   "execution_count": 20,
   "metadata": {},
   "outputs": [
    {
     "name": "stdout",
     "output_type": "stream",
     "text": [
      "13 * 1 = 13\n",
      "13 * 2 = 26\n",
      "13 * 3 = 39\n",
      "13 * 4 = 52\n",
      "13 * 5 = 65\n",
      "13 * 6 = 78\n",
      "13 * 7 = 91\n",
      "13 * 8 = 104\n",
      "13 * 9 = 117\n",
      "13 * 10 = 130\n"
     ]
    }
   ],
   "source": [
    "num = 13\n",
    "for i in range(10,101,5):\n",
    "    print(f'{num} * {i} = {num * i}')"
   ]
  },
  {
   "cell_type": "code",
   "execution_count": 22,
   "metadata": {},
   "outputs": [
    {
     "name": "stdout",
     "output_type": "stream",
     "text": [
      "0\n",
      "2\n",
      "4\n",
      "6\n",
      "8\n",
      "10\n",
      "12\n",
      "14\n",
      "16\n",
      "18\n",
      "20\n",
      "22\n",
      "24\n",
      "26\n",
      "28\n",
      "30\n",
      "32\n",
      "34\n",
      "36\n",
      "38\n",
      "40\n",
      "42\n",
      "44\n",
      "46\n",
      "48\n",
      "50\n",
      "52\n",
      "54\n",
      "56\n",
      "58\n",
      "60\n",
      "62\n",
      "64\n",
      "66\n",
      "68\n",
      "70\n",
      "72\n",
      "74\n",
      "76\n",
      "78\n",
      "80\n",
      "82\n",
      "84\n",
      "86\n",
      "88\n",
      "90\n",
      "92\n",
      "94\n",
      "96\n",
      "98\n",
      "100\n"
     ]
    }
   ],
   "source": [
    "# only even numbers \n",
    "for i in range(0,101,2):\n",
    "    print(i)"
   ]
  },
  {
   "cell_type": "code",
   "execution_count": 23,
   "metadata": {},
   "outputs": [
    {
     "name": "stdout",
     "output_type": "stream",
     "text": [
      "10\n",
      "9\n",
      "8\n",
      "7\n",
      "6\n",
      "5\n",
      "4\n",
      "3\n",
      "2\n",
      "1\n"
     ]
    }
   ],
   "source": [
    "# reverse loop\n",
    "for i in range(10,0,-1):\n",
    "    print(i)"
   ]
  }
 ],
 "metadata": {
  "kernelspec": {
   "display_name": "base",
   "language": "python",
   "name": "python3"
  },
  "language_info": {
   "codemirror_mode": {
    "name": "ipython",
    "version": 3
   },
   "file_extension": ".py",
   "mimetype": "text/x-python",
   "name": "python",
   "nbconvert_exporter": "python",
   "pygments_lexer": "ipython3",
   "version": "3.12.3"
  }
 },
 "nbformat": 4,
 "nbformat_minor": 2
}
