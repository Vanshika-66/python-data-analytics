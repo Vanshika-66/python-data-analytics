{
 "cells": [
  {
   "cell_type": "markdown",
   "metadata": {},
   "source": [
    "programing flow\n",
    "- conditional flow\n",
    "  - if\n",
    "  - if else\n",
    "  - if elif else \n",
    "  - match case \n",
    "- iterative flow \n",
    " - for loop \n",
    " - while loop \n",
    " "
   ]
  },
  {
   "cell_type": "code",
   "execution_count": 1,
   "metadata": {},
   "outputs": [
    {
     "name": "stdout",
     "output_type": "stream",
     "text": [
      "hello everyone\n"
     ]
    }
   ],
   "source": [
    "if 'hello':\n",
    "    print('hello everyone')"
   ]
  },
  {
   "cell_type": "code",
   "execution_count": 2,
   "metadata": {},
   "outputs": [
    {
     "name": "stdout",
     "output_type": "stream",
     "text": [
      "hello everyone\n"
     ]
    }
   ],
   "source": [
    "x= 'hello'\n",
    "if len(x) >= 5:\n",
    "    print('hello everyone')"
   ]
  },
  {
   "cell_type": "code",
   "execution_count": 6,
   "metadata": {},
   "outputs": [
    {
     "name": "stdout",
     "output_type": "stream",
     "text": [
      "a * 2 is greater than 100\n",
      "a + 50 is greater than 100\n"
     ]
    }
   ],
   "source": [
    "a= int(input('enter a number'))\n",
    "if a * 2> 100:\n",
    "    print('a * 2 is greater than 100')\n",
    "if a + 50 > 100:\n",
    "    print('a + 50 is greater than 100')"
   ]
  },
  {
   "cell_type": "code",
   "execution_count": 8,
   "metadata": {},
   "outputs": [
    {
     "name": "stdout",
     "output_type": "stream",
     "text": [
      "x is odd\n"
     ]
    }
   ],
   "source": [
    "x= int(input('enter a number'))\n",
    "if x % 2 == 0:\n",
    "    print('x is even')\n",
    "else:\n",
    "    print('x is odd')\n"
   ]
  },
  {
   "cell_type": "markdown",
   "metadata": {},
   "source": [
    "wap to find out the total salary of the employee baaed on the following data \n",
    "total salary: user inputted \n",
    "hra= 5%\n",
    "da= 3.3 %\n",
    "ta = 2.61% \n",
    "\n",
    "'total = salary + da + ta + hra'\n",
    "\n",
    "*rule* \n",
    "'if hra is less than 1000 then don't add hra to total'\n"
   ]
  },
  {
   "cell_type": "code",
   "execution_count": null,
   "metadata": {},
   "outputs": [],
   "source": []
  }
 ],
 "metadata": {
  "kernelspec": {
   "display_name": "base",
   "language": "python",
   "name": "python3"
  },
  "language_info": {
   "codemirror_mode": {
    "name": "ipython",
    "version": 3
   },
   "file_extension": ".py",
   "mimetype": "text/x-python",
   "name": "python",
   "nbconvert_exporter": "python",
   "pygments_lexer": "ipython3",
   "version": "3.12.3"
  }
 },
 "nbformat": 4,
 "nbformat_minor": 2
}
