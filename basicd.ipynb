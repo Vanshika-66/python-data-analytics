{
 "cells": [
  {
   "cell_type": "markdown",
   "metadata": {},
   "source": [
    "# displaying data"
   ]
  },
  {
   "cell_type": "code",
   "execution_count": 2,
   "metadata": {},
   "outputs": [
    {
     "name": "stdout",
     "output_type": "stream",
     "text": [
      "welcome to displaying data\n"
     ]
    }
   ],
   "source": [
    "print('welcome to displaying data') # static message to display"
   ]
  },
  {
   "cell_type": "code",
   "execution_count": 4,
   "metadata": {},
   "outputs": [
    {
     "name": "stdout",
     "output_type": "stream",
     "text": [
      "alex\n",
      "baron\n"
     ]
    }
   ],
   "source": [
    "a= 'alex'\n",
    "b= 'baron'\n",
    "print(a) # display the value of a\n",
    "print(b) # display the value of b "
   ]
  },
  {
   "cell_type": "code",
   "execution_count": 5,
   "metadata": {},
   "outputs": [
    {
     "name": "stdout",
     "output_type": "stream",
     "text": [
      "alex baron\n",
      "alex alex alex alex\n"
     ]
    }
   ],
   "source": [
    "print(a,b)\n",
    "print(a,a,a,a)"
   ]
  },
  {
   "cell_type": "code",
   "execution_count": 6,
   "metadata": {},
   "outputs": [
    {
     "name": "stdout",
     "output_type": "stream",
     "text": [
      "your name is vanshika\n"
     ]
    }
   ],
   "source": [
    "name= input('enter your name')\n",
    "print('your name is',name)"
   ]
  },
  {
   "cell_type": "code",
   "execution_count": 7,
   "metadata": {},
   "outputs": [],
   "source": [
    "num1= input('enter a number')\n",
    "num2= input('enter another number')"
   ]
  },
  {
   "cell_type": "code",
   "execution_count": 12,
   "metadata": {},
   "outputs": [
    {
     "name": "stdout",
     "output_type": "stream",
     "text": [
      "the print num is 23 and the second num is 44\n"
     ]
    }
   ],
   "source": [
    "num1= input('enter a number')\n",
    "num2= input('enter another number')\n",
    "print('the print num is', num1, 'and the second num is',num2)\n"
   ]
  },
  {
   "cell_type": "code",
   "execution_count": 13,
   "metadata": {},
   "outputs": [
    {
     "name": "stdout",
     "output_type": "stream",
     "text": [
      "the first num is 23\n",
      "\n",
      "and the second num is 44\n"
     ]
    }
   ],
   "source": [
    "print('the first num is', num1)\n",
    "print()\n",
    "print('and the second num is',num2)"
   ]
  },
  {
   "cell_type": "code",
   "execution_count": 20,
   "metadata": {},
   "outputs": [
    {
     "name": "stdout",
     "output_type": "stream",
     "text": [
      "the value are 5, 3.200000, Hello\n"
     ]
    }
   ],
   "source": [
    "a,b,c= 5,3.2, \"Hello\" # multiple assignment\n",
    "print(\"the value are %d, %f, %s\" %(a, b, c)) # %d= int, %f= float, %s= string"
   ]
  },
  {
   "cell_type": "code",
   "execution_count": 21,
   "metadata": {},
   "outputs": [
    {
     "name": "stdout",
     "output_type": "stream",
     "text": [
      "the value of a=>5, b=>3.2, c=>Hello\n"
     ]
    }
   ],
   "source": [
    "# format method\n",
    "print('the value of a=>{}, b=>{}, c=>{}'.format(a, b, c))"
   ]
  },
  {
   "cell_type": "code",
   "execution_count": 22,
   "metadata": {},
   "outputs": [
    {
     "name": "stdout",
     "output_type": "stream",
     "text": [
      "HelloWorld\n",
      "the values of a=5\n",
      "the value of c=Hello\n",
      "the value of b=3.2\n"
     ]
    }
   ],
   "source": [
    "# string concatenation\n",
    "print('Hello'+ 'World')\n",
    "print('the values of a=' + str(a))\n",
    "print('the value of c=' + c)\n",
    "print('the value of b=' + str(b))"
   ]
  },
  {
   "cell_type": "code",
   "execution_count": 23,
   "metadata": {},
   "outputs": [
    {
     "name": "stdout",
     "output_type": "stream",
     "text": [
      "the value of a=>5, b=>3.2, c=>Hello\n"
     ]
    }
   ],
   "source": [
    "# f string\n",
    "print(f'the value of a=>{a}, b=>{b}, c=>{c}')"
   ]
  },
  {
   "cell_type": "markdown",
   "metadata": {},
   "source": [
    "# f-string"
   ]
  },
  {
   "cell_type": "code",
   "execution_count": 26,
   "metadata": {},
   "outputs": [
    {
     "name": "stdout",
     "output_type": "stream",
     "text": [
      "10/3 = 3.3333333333333335\n",
      "10/3 = 3.33\n"
     ]
    }
   ],
   "source": [
    "a,b = 10,3\n",
    "print(f'{a}/{b} = {a/b}')\n",
    "print(f'{a}/{b} = {a/b:.2f}') # 2f. = 2 decimal places"
   ]
  },
  {
   "cell_type": "code",
   "execution_count": 29,
   "metadata": {},
   "outputs": [
    {
     "name": "stdout",
     "output_type": "stream",
     "text": [
      "Your areAlex\n",
      "Your areAlex      \n",
      "Your are       Alex\n",
      "Your are       Alex\n"
     ]
    }
   ],
   "source": [
    "# alignment\n",
    "name= 'Alex'\n",
    "print(f'Your are{name}')\n",
    "print(f'Your are{name:10}') # 10 here is number of characters for display\n",
    "print(f'Your are {name:>10}') # right alignment \n",
    "print(f'Your are {name:>10}') # center alignment "
   ]
  },
  {
   "cell_type": "code",
   "execution_count": 28,
   "metadata": {},
   "outputs": [
    {
     "name": "stdout",
     "output_type": "stream",
     "text": [
      "fruit 1:       Apple\n",
      "fruit 2:   Blueberry\n",
      "fruit 3:      Cherry\n",
      "fruit 4: Dragonfruit\n"
     ]
    }
   ],
   "source": [
    "a,b,c,d= 'Apple', 'Blueberry', 'Cherry', 'Dragonfruit'\n",
    "print(f'fruit 1: {a:>11}')\n",
    "print(f'fruit 2: {b:>11}')\n",
    "print(f'fruit 3: {c:>11}')\n",
    "print(f'fruit 4: {d:>11}')"
   ]
  },
  {
   "cell_type": "code",
   "execution_count": null,
   "metadata": {},
   "outputs": [],
   "source": []
  }
 ],
 "metadata": {
  "kernelspec": {
   "display_name": "base",
   "language": "python",
   "name": "python3"
  },
  "language_info": {
   "codemirror_mode": {
    "name": "ipython",
    "version": 3
   },
   "file_extension": ".py",
   "mimetype": "text/x-python",
   "name": "python",
   "nbconvert_exporter": "python",
   "pygments_lexer": "ipython3",
   "version": "3.12.3"
  }
 },
 "nbformat": 4,
 "nbformat_minor": 2
}
