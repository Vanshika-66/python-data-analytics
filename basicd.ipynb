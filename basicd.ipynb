{
 "cells": [
  {
   "cell_type": "markdown",
   "metadata": {},
   "source": [
    "# displaying data"
   ]
  },
  {
   "cell_type": "code",
   "execution_count": 2,
   "metadata": {},
   "outputs": [
    {
     "name": "stdout",
     "output_type": "stream",
     "text": [
      "welcome to displaying data\n"
     ]
    }
   ],
   "source": [
    "print('welcome to displaying data') # static message to display"
   ]
  },
  {
   "cell_type": "code",
   "execution_count": 4,
   "metadata": {},
   "outputs": [
    {
     "name": "stdout",
     "output_type": "stream",
     "text": [
      "alex\n",
      "baron\n"
     ]
    }
   ],
   "source": [
    "a= 'alex'\n",
    "b= 'baron'\n",
    "print(a) # display the value of a\n",
    "print(b) # display the value of b "
   ]
  },
  {
   "cell_type": "code",
   "execution_count": 5,
   "metadata": {},
   "outputs": [
    {
     "name": "stdout",
     "output_type": "stream",
     "text": [
      "alex baron\n",
      "alex alex alex alex\n"
     ]
    }
   ],
   "source": [
    "print(a,b)\n",
    "print(a,a,a,a)"
   ]
  },
  {
   "cell_type": "code",
   "execution_count": 6,
   "metadata": {},
   "outputs": [
    {
     "name": "stdout",
     "output_type": "stream",
     "text": [
      "your name is vanshika\n"
     ]
    }
   ],
   "source": [
    "name= input('enter your name')\n",
    "print('your name is',name)"
   ]
  },
  {
   "cell_type": "code",
   "execution_count": 7,
   "metadata": {},
   "outputs": [],
   "source": [
    "num1= input('enter a number')\n",
    "num2= input('enter another number')"
   ]
  },
  {
   "cell_type": "code",
   "execution_count": 12,
   "metadata": {},
   "outputs": [
    {
     "name": "stdout",
     "output_type": "stream",
     "text": [
      "the print num is 23 and the second num is 44\n"
     ]
    }
   ],
   "source": [
    "num1= input('enter a number')\n",
    "num2= input('enter another number')\n",
    "print('the print num is', num1, 'and the second num is',num2)\n"
   ]
  },
  {
   "cell_type": "code",
   "execution_count": 13,
   "metadata": {},
   "outputs": [
    {
     "name": "stdout",
     "output_type": "stream",
     "text": [
      "the first num is 23\n",
      "\n",
      "and the second num is 44\n"
     ]
    }
   ],
   "source": [
    "print('the first num is', num1)\n",
    "print()\n",
    "print('and the second num is',num2)"
   ]
  },
  {
   "cell_type": "code",
   "execution_count": 20,
   "metadata": {},
   "outputs": [
    {
     "name": "stdout",
     "output_type": "stream",
     "text": [
      "the value are 5, 3.200000, Hello\n"
     ]
    }
   ],
   "source": [
    "a,b,c= 5,3.2, \"Hello\" # multiple assignment\n",
    "print(\"the value are %d, %f, %s\" %(a, b, c)) # %d= int, %f= float, %s= string"
   ]
  },
  {
   "cell_type": "code",
   "execution_count": 21,
   "metadata": {},
   "outputs": [
    {
     "name": "stdout",
     "output_type": "stream",
     "text": [
      "the value of a=>5, b=>3.2, c=>Hello\n"
     ]
    }
   ],
   "source": [
    "# format method\n",
    "print('the value of a=>{}, b=>{}, c=>{}'.format(a, b, c))"
   ]
  },
  {
   "cell_type": "code",
   "execution_count": 22,
   "metadata": {},
   "outputs": [
    {
     "name": "stdout",
     "output_type": "stream",
     "text": [
      "HelloWorld\n",
      "the values of a=5\n",
      "the value of c=Hello\n",
      "the value of b=3.2\n"
     ]
    }
   ],
   "source": [
    "# string concatenation\n",
    "print('Hello'+ 'World')\n",
    "print('the values of a=' + str(a))\n",
    "print('the value of c=' + c)\n",
    "print('the value of b=' + str(b))"
   ]
  },
  {
   "cell_type": "code",
   "execution_count": 23,
   "metadata": {},
   "outputs": [
    {
     "name": "stdout",
     "output_type": "stream",
     "text": [
      "the value of a=>5, b=>3.2, c=>Hello\n"
     ]
    }
   ],
   "source": [
    "# f string\n",
    "print(f'the value of a=>{a}, b=>{b}, c=>{c}')"
   ]
  },
  {
   "cell_type": "markdown",
   "metadata": {},
   "source": [
    "# f-string"
   ]
  },
  {
   "cell_type": "code",
   "execution_count": 26,
   "metadata": {},
   "outputs": [
    {
     "name": "stdout",
     "output_type": "stream",
     "text": [
      "10/3 = 3.3333333333333335\n",
      "10/3 = 3.33\n"
     ]
    }
   ],
   "source": [
    "a,b = 10,3\n",
    "print(f'{a}/{b} = {a/b}')\n",
    "print(f'{a}/{b} = {a/b:.2f}') # 2f. = 2 decimal places"
   ]
  },
  {
   "cell_type": "code",
   "execution_count": 29,
   "metadata": {},
   "outputs": [
    {
     "name": "stdout",
     "output_type": "stream",
     "text": [
      "Your areAlex\n",
      "Your areAlex      \n",
      "Your are       Alex\n",
      "Your are       Alex\n"
     ]
    }
   ],
   "source": [
    "# alignment\n",
    "name= 'Alex'\n",
    "print(f'Your are{name}')\n",
    "print(f'Your are{name:10}') # 10 here is number of characters for display\n",
    "print(f'Your are {name:>10}') # right alignment \n",
    "print(f'Your are {name:>10}') # center alignment "
   ]
  },
  {
   "cell_type": "code",
   "execution_count": 28,
   "metadata": {},
   "outputs": [
    {
     "name": "stdout",
     "output_type": "stream",
     "text": [
      "fruit 1:       Apple\n",
      "fruit 2:   Blueberry\n",
      "fruit 3:      Cherry\n",
      "fruit 4: Dragonfruit\n"
     ]
    }
   ],
   "source": [
    "a,b,c,d= 'Apple', 'Blueberry', 'Cherry', 'Dragonfruit'\n",
    "print(f'fruit 1: {a:>11}')\n",
    "print(f'fruit 2: {b:>11}')\n",
    "print(f'fruit 3: {c:>11}')\n",
    "print(f'fruit 4: {d:>11}')"
   ]
  },
  {
   "cell_type": "code",
   "execution_count": null,
   "metadata": {},
   "outputs": [],
   "source": [
    "## operators\n",
    "arithmetic + - * / % // **\n",
    "assignment = += -= *= /= and so on \n",
    "comparison\n",
    "logical operators \n",
    "relationship (in)\n",
    "bitwise\n",
    "identity (is)\n",
    "\n"
   ]
  },
  {
   "cell_type": "code",
   "execution_count": null,
   "metadata": {},
   "outputs": [],
   "source": [
    "x = x**2 + y**2 % 10 - 5 * 2 "
   ]
  },
  {
   "cell_type": "code",
   "execution_count": null,
   "metadata": {},
   "outputs": [],
   "source": [
    "eq= 120\n",
    "x += 5 # update x by adding 5 \n",
    "x *= 10 # update x by multiplying by 10\n",
    "x /= 2 # update x by dividing by 2 "
   ]
  },
  {
   "cell_type": "code",
   "execution_count": null,
   "metadata": {},
   "outputs": [],
   "source": [
    "print(x > y) # greater than \n",
    "print(x > y) # less than \n",
    "print(x == y) # equal to \n",
    "print(x != y) # not equal to \n",
    "print(x <= y) # less than or equal to \n"
   ]
  },
  {
   "cell_type": "code",
   "execution_count": null,
   "metadata": {},
   "outputs": [],
   "source": [
    "x + 10 > y - 5"
   ]
  },
  {
   "cell_type": "code",
   "execution_count": null,
   "metadata": {},
   "outputs": [],
   "source": [
    "x > y and x < 100"
   ]
  },
  {
   "cell_type": "code",
   "execution_count": null,
   "metadata": {},
   "outputs": [],
   "source": [
    "x > y and x > 100  # this will not be displayed \n",
    "x > 15  or y > 10 "
   ]
  },
  {
   "cell_type": "code",
   "execution_count": null,
   "metadata": {},
   "outputs": [],
   "source": [
    "fruits = ['apple', 'cherry', 'date','elderberry']\n",
    "print('cherry' in fruits)\n",
    "print('cherry' in fruits)\n",
    "print('blueberry' in fruits)\n",
    "print('apple' in fruits)"
   ]
  },
  {
   "cell_type": "code",
   "execution_count": null,
   "metadata": {},
   "outputs": [],
   "source": [
    "# this is not the best concept \n",
    "f= fruits # f is a reference "
   ]
  },
  {
   "cell_type": "markdown",
   "metadata": {},
   "source": [
    "# typecasting"
   ]
  },
  {
   "cell_type": "code",
   "execution_count": null,
   "metadata": {},
   "outputs": [],
   "source": [
    "x= 10 \n",
    "xf = float(x)\n",
    "xs = str(x)\n",
    "print(x,xf)\n",
    "print(type(x), type(xf))\n",
    "# checking if x is an integer \n",
    "print(isinstance(x, int))\n",
    "print(isinstance(xf, int))\n",
    "print(isinstance(x, str))\n",
    "print(isinstance(xs,(int,float)))\n",
    "print(isinstance(x,(int,float)))"
   ]
  },
  {
   "cell_type": "code",
   "execution_count": 2,
   "metadata": {},
   "outputs": [
    {
     "ename": "ValueError",
     "evalue": "invalid literal for int() with base 10: '20a'",
     "output_type": "error",
     "traceback": [
      "\u001b[1;31m---------------------------------------------------------------------------\u001b[0m",
      "\u001b[1;31mValueError\u001b[0m                                Traceback (most recent call last)",
      "Cell \u001b[1;32mIn[2], line 1\u001b[0m\n\u001b[1;32m----> 1\u001b[0m \u001b[38;5;28mint\u001b[39m(\u001b[38;5;124m'\u001b[39m\u001b[38;5;124m20a\u001b[39m\u001b[38;5;124m'\u001b[39m)\n",
      "\u001b[1;31mValueError\u001b[0m: invalid literal for int() with base 10: '20a'"
     ]
    }
   ],
   "source": [
    "int('20a') # this will not work "
   ]
  },
  {
   "cell_type": "code",
   "execution_count": 3,
   "metadata": {},
   "outputs": [
    {
     "data": {
      "text/plain": [
       "97"
      ]
     },
     "execution_count": 3,
     "metadata": {},
     "output_type": "execute_result"
    }
   ],
   "source": [
    "ord('a') # returns the unicode value of a character"
   ]
  },
  {
   "cell_type": "code",
   "execution_count": 4,
   "metadata": {},
   "outputs": [
    {
     "name": "stdout",
     "output_type": "stream",
     "text": [
      "㬄\n"
     ]
    }
   ],
   "source": [
    "print(chr(15108)) # returns the character of a unicode value \n"
   ]
  },
  {
   "cell_type": "code",
   "execution_count": 5,
   "metadata": {},
   "outputs": [
    {
     "name": "stdout",
     "output_type": "stream",
     "text": [
      "79\n"
     ]
    }
   ],
   "source": [
    "a= int(input('enter a number'))\n",
    "b= int(input('enter another number'))\n",
    "print(a+b)\n"
   ]
  },
  {
   "cell_type": "code",
   "execution_count": null,
   "metadata": {},
   "outputs": [],
   "source": []
  }
 ],
 "metadata": {
  "kernelspec": {
   "display_name": "base",
   "language": "python",
   "name": "python3"
  },
  "language_info": {
   "codemirror_mode": {
    "name": "ipython",
    "version": 3
   },
   "file_extension": ".py",
   "mimetype": "text/x-python",
   "name": "python",
   "nbconvert_exporter": "python",
   "pygments_lexer": "ipython3",
   "version": "3.12.3"
  }
 },
 "nbformat": 4,
 "nbformat_minor": 2
}
